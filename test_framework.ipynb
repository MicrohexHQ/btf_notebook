{
 "cells": [
  {
   "cell_type": "markdown",
   "metadata": {},
   "source": [
    "# Bitcoin Test Framework\n",
    "\n",
    "In the first two notebooks, we looked at how to spin up nodes and run RPC commands. This notebook demonstrates the structure of a test file."
   ]
  },
  {
   "cell_type": "code",
   "execution_count": null,
   "metadata": {},
   "outputs": [],
   "source": [
    "from utils import *  # Sorry for the wildcard. It just makes things easier.\n",
    "\n",
    "srcdir = \"/usr/bin\" # Change this to the path for your bitcoind executable"
   ]
  },
  {
   "cell_type": "code",
   "execution_count": null,
   "metadata": {},
   "outputs": [],
   "source": [
    "# First we import everything we need\n",
    "\n",
    "# Imports should be in PEP8 ordering (std library first, then third party\n",
    "# libraries then local imports).\n",
    "from collections import defaultdict\n",
    "from pprint import pprint\n",
    "\n",
    "# Avoid wildcard * imports if possible\n",
    "from test_framework.blocktools import (create_block, create_coinbase)\n",
    "from test_framework.mininode import (\n",
    "    CInv,\n",
    "    NetworkThread,\n",
    "    NodeConn,\n",
    "    NodeConnCB,\n",
    "    mininode_lock,\n",
    "    msg_block,\n",
    "    msg_getdata,\n",
    ")\n",
    "from test_framework.test_framework import BitcoinTestFramework\n",
    "from test_framework.util import (\n",
    "    assert_equal,\n",
    "    connect_nodes,\n",
    "    p2p_port,\n",
    "    wait_until,\n",
    ")"
   ]
  },
  {
   "cell_type": "markdown",
   "metadata": {},
   "source": [
    "# NodeConnCB\n",
    "\n",
    "`NodeConnCB` is a class containing callbacks to be executed when a P2P message is received from the node-under-test. Subclass `NodeConnCB` and override the `on_*()` methods if you need custom behaviour."
   ]
  },
  {
   "cell_type": "code",
   "execution_count": null,
   "metadata": {},
   "outputs": [],
   "source": [
    "class BaseNode(NodeConnCB):\n",
    "    def __init__(self):\n",
    "        \"\"\"Initialize the NodeConnCB\n",
    "\n",
    "        Used to inialize custom properties for the Node that aren't\n",
    "        included by default in the base class. Be aware that the NodeConnCB\n",
    "        base class already stores a counter for each P2P message type and the\n",
    "        last received message of each type, which should be sufficient for the\n",
    "        needs of most tests.\n",
    "\n",
    "        Call super().__init__() first for standard initialization and then\n",
    "        initialize custom properties.\"\"\"\n",
    "        super().__init__()\n",
    "        # Stores a dictionary of all blocks received\n",
    "        self.block_receive_map = defaultdict(int)\n",
    "\n",
    "    def on_block(self, conn, message):\n",
    "        \"\"\"Override the standard on_block callback\n",
    "\n",
    "        Store the hash of a received block in the dictionary.\"\"\"\n",
    "        message.block.calc_sha256()\n",
    "        self.block_receive_map[message.block.sha256] += 1\n",
    "\n",
    "    def on_inv(self, conn, message):\n",
    "        \"\"\"Override the standard on_inv callback\"\"\"\n",
    "        pass\n"
   ]
  },
  {
   "cell_type": "markdown",
   "metadata": {},
   "source": [
    "# Custom functionality\n",
    "\n",
    "We can define our own helper functions in a test."
   ]
  },
  {
   "cell_type": "code",
   "execution_count": null,
   "metadata": {},
   "outputs": [],
   "source": [
    "def custom_function():\n",
    "    \"\"\"Do some custom behaviour\n",
    "\n",
    "    If this function is more generally useful for other tests, consider\n",
    "    moving it to a module in test_framework.\"\"\"\n",
    "    # self.log.info(\"running custom_function\")  # Oops! Can't run self.log outside the BitcoinTestFramework\n",
    "    pass"
   ]
  },
  {
   "cell_type": "markdown",
   "metadata": {},
   "source": [
    "# Setting up the test\n",
    "\n",
    "Each functional test is a subclass of the BitcoinTestFramework class. Override the `set_test_params()`, `add_options()`, `setup_chain()`, `setup_network()` and `setup_nodes()` methods to customize the test setup as required."
   ]
  },
  {
   "cell_type": "code",
   "execution_count": null,
   "metadata": {},
   "outputs": [],
   "source": [
    "class ExampleTest(BitcoinTestFramework):\n",
    "    def set_test_params(self):\n",
    "        \"\"\"Override test parameters for your individual test.\n",
    "\n",
    "        This method must be overridden and num_nodes must be exlicitly set.\"\"\"\n",
    "        self.setup_clean_chain = True\n",
    "        self.num_nodes = 3\n",
    "        # Use self.extra_args to change command-line arguments for the nodes\n",
    "        self.extra_args = [[], [\"-logips\"], []]\n",
    "\n",
    "        # self.log.info(\"I've finished set_test_params\")  # Oops! Can't run self.log before run_test()\n",
    "\n",
    "    # Use add_options() to add specific command-line options for your test.\n",
    "    # In practice this is not used very much, since the tests are mostly written\n",
    "    # to be run in automated environments without command-line options.\n",
    "    # def add_options()\n",
    "    #     pass\n",
    "\n",
    "    # Use setup_chain() to customize the node data directories. In practice\n",
    "    # this is not used very much since the default behaviour is almost always\n",
    "    # fine\n",
    "    # def setup_chain():\n",
    "    #     pass\n",
    "\n",
    "    def setup_network(self):\n",
    "        \"\"\"Setup the test network topology\n",
    "\n",
    "        Often you won't need to override this, since the standard network topology\n",
    "        (linear: node0 <-> node1 <-> node2 <-> ...) is fine for most tests.\n",
    "\n",
    "        If you do override this method, remember to start the nodes, assign\n",
    "        them to self.nodes, connect them and then sync.\"\"\"\n",
    "\n",
    "        self.setup_nodes()\n",
    "\n",
    "        # In this test, we're not connecting node2 to node0 or node1. Calls to\n",
    "        # sync_all() should not include node2, since we're not expecting it to\n",
    "        # sync.\n",
    "        connect_nodes(self.nodes[0], 1)\n",
    "        self.sync_all([self.nodes[0:1]])\n",
    "\n",
    "    # Use setup_nodes() to customize the node start behaviour (for example if\n",
    "    # you don't want to start all nodes at the start of the test).\n",
    "    # def setup_nodes():\n",
    "    #     pass\n",
    "\n",
    "    def custom_method(self):\n",
    "        \"\"\"Do some custom behaviour for this test\n",
    "\n",
    "        Define it in a method here because you're going to use it repeatedly.\n",
    "        If you think it's useful in general, consider moving it to the base\n",
    "        BitcoinTestFramework class so other tests can use it.\"\"\"\n",
    "\n",
    "        self.log.info(\"Running custom_method\")"
   ]
  },
  {
   "cell_type": "markdown",
   "metadata": {},
   "source": [
    "# Defining the actual test\n",
    "\n",
    "For a normal test, we'd override the `run_test()` method to define the steps in the test.\n",
    "\n",
    "Since this is a step-by-step walkthrough, we'll just run the commands manually."
   ]
  },
  {
   "cell_type": "code",
   "execution_count": null,
   "metadata": {},
   "outputs": [],
   "source": [
    "self = ExampleTest()  # Gross. I'm really sorry\n",
    "setup_test(self, srcdir)  # This gets us to the start of the test"
   ]
  },
  {
   "cell_type": "markdown",
   "metadata": {},
   "source": [
    "# Now, let's have some fun\n",
    "\n",
    "Ok, we're good to go. Our `setup_network()` method has started three nodes for us and set up a P2P connection between node0 and node1. Let's make sure that we really do have three nodes ready for testing:"
   ]
  },
  {
   "cell_type": "code",
   "execution_count": null,
   "metadata": {},
   "outputs": [],
   "source": [
    "# First make sure that self.nodes has three objects\n",
    "print(self.nodes)"
   ]
  },
  {
   "cell_type": "code",
   "execution_count": null,
   "metadata": {},
   "outputs": [],
   "source": [
    "# Each of those objects is a `TestNode` class. We can make calls on that class, which get mapped through to RPC calls\n",
    "# Let's get some info from those nodes:\n",
    "\n",
    "print(\"Node0's blockchain info:\\n\")\n",
    "pprint(self.nodes[0].getblockchaininfo())"
   ]
  },
  {
   "cell_type": "code",
   "execution_count": null,
   "metadata": {},
   "outputs": [],
   "source": [
    "print(\"Node1's peer info:\\n\")\n",
    "pprint(self.nodes[1].getpeerinfo())"
   ]
  },
  {
   "cell_type": "code",
   "execution_count": null,
   "metadata": {},
   "outputs": [],
   "source": [
    "print(\"Node2's network info:\\n\")\n",
    "pprint(self.nodes[2].getnetworkinfo())"
   ]
  },
  {
   "cell_type": "markdown",
   "metadata": {},
   "source": [
    "# Shutdown\n",
    "\n",
    "Now that we've finished, call `shutdown_test()` to shutdown the nodes and clean up resources."
   ]
  },
  {
   "cell_type": "code",
   "execution_count": null,
   "metadata": {},
   "outputs": [],
   "source": [
    "shutdown_test(self)"
   ]
  }
 ],
 "metadata": {
  "kernelspec": {
   "display_name": "Python 3",
   "language": "python",
   "name": "python3"
  },
  "language_info": {
   "codemirror_mode": {
    "name": "ipython",
    "version": 3
   },
   "file_extension": ".py",
   "mimetype": "text/x-python",
   "name": "python",
   "nbconvert_exporter": "python",
   "pygments_lexer": "ipython3",
   "version": "3.5.2"
  }
 },
 "nbformat": 4,
 "nbformat_minor": 2
}
