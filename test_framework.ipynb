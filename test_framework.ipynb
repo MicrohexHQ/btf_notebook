{
 "cells": [
  {
   "cell_type": "markdown",
   "metadata": {},
   "source": [
    "# Bitcoin Test Framework Example\n",
    "\n",
    "This is a Jupyter notebook. We're going to use it to step through an example test using the Bitcoin Test Framework.\n",
    "\n",
    "To run the code in a cell, press shift-enter."
   ]
  },
  {
   "cell_type": "markdown",
   "metadata": {},
   "source": [
    "# Housekeeping\n",
    "\n",
    "Let's set up some variables first. Normally, these are set by the test framework itself.\n",
    "\n",
    "We'll also import some useful utility functions."
   ]
  },
  {
   "cell_type": "code",
   "execution_count": 35,
   "metadata": {},
   "outputs": [],
   "source": [
    "from notebook_utils import *  # Sorry for the wildcard. It just makes things easier.\n",
    "\n",
    "srcdir = \"../bitcoin/src\" # Change this to the path for your bitcoind executable\n",
    "cachedir = \"./cache\" # Change this to a path for a cache directory"
   ]
  },
  {
   "cell_type": "code",
   "execution_count": 33,
   "metadata": {},
   "outputs": [],
   "source": [
    "# First we import everything we need\n",
    "\n",
    "# Imports should be in PEP8 ordering (std library first, then third party\n",
    "# libraries then local imports).\n",
    "from collections import defaultdict\n",
    "from pprint import pprint\n",
    "\n",
    "# Avoid wildcard * imports if possible\n",
    "from test_framework.blocktools import (create_block, create_coinbase)\n",
    "from test_framework.mininode import (\n",
    "    CInv,\n",
    "    NetworkThread,\n",
    "    NodeConn,\n",
    "    NodeConnCB,\n",
    "    mininode_lock,\n",
    "    msg_block,\n",
    "    msg_getdata,\n",
    ")\n",
    "from test_framework.test_framework import BitcoinTestFramework\n",
    "from test_framework.util import (\n",
    "    assert_equal,\n",
    "    connect_nodes,\n",
    "    p2p_port,\n",
    "    wait_until,\n",
    ")"
   ]
  },
  {
   "cell_type": "markdown",
   "metadata": {},
   "source": [
    "# NodeConnCB\n",
    "\n",
    "`NodeConnCB` is a class containing callbacks to be executed when a P2P message is received from the node-under-test. Subclass `NodeConnCB` and override the `on_*()` methods if you need custom behaviour."
   ]
  },
  {
   "cell_type": "code",
   "execution_count": 3,
   "metadata": {},
   "outputs": [],
   "source": [
    "class BaseNode(NodeConnCB):\n",
    "    def __init__(self):\n",
    "        \"\"\"Initialize the NodeConnCB\n",
    "\n",
    "        Used to inialize custom properties for the Node that aren't\n",
    "        included by default in the base class. Be aware that the NodeConnCB\n",
    "        base class already stores a counter for each P2P message type and the\n",
    "        last received message of each type, which should be sufficient for the\n",
    "        needs of most tests.\n",
    "\n",
    "        Call super().__init__() first for standard initialization and then\n",
    "        initialize custom properties.\"\"\"\n",
    "        super().__init__()\n",
    "        # Stores a dictionary of all blocks received\n",
    "        self.block_receive_map = defaultdict(int)\n",
    "\n",
    "    def on_block(self, conn, message):\n",
    "        \"\"\"Override the standard on_block callback\n",
    "\n",
    "        Store the hash of a received block in the dictionary.\"\"\"\n",
    "        message.block.calc_sha256()\n",
    "        self.block_receive_map[message.block.sha256] += 1\n",
    "\n",
    "    def on_inv(self, conn, message):\n",
    "        \"\"\"Override the standard on_inv callback\"\"\"\n",
    "        pass\n"
   ]
  },
  {
   "cell_type": "markdown",
   "metadata": {},
   "source": [
    "# Custom functionality\n",
    "\n",
    "We can define our own helper functions in a test."
   ]
  },
  {
   "cell_type": "code",
   "execution_count": 4,
   "metadata": {},
   "outputs": [],
   "source": [
    "def custom_function():\n",
    "    \"\"\"Do some custom behaviour\n",
    "\n",
    "    If this function is more generally useful for other tests, consider\n",
    "    moving it to a module in test_framework.\"\"\"\n",
    "    # self.log.info(\"running custom_function\")  # Oops! Can't run self.log outside the BitcoinTestFramework\n",
    "    pass"
   ]
  },
  {
   "cell_type": "markdown",
   "metadata": {},
   "source": [
    "# Setting up the test\n",
    "\n",
    "Each functional test is a subclass of the BitcoinTestFramework class. Override the `set_test_params()`, `add_options()`, `setup_chain()`, `setup_network()` and `setup_nodes()` methods to customize the test setup as required."
   ]
  },
  {
   "cell_type": "code",
   "execution_count": 5,
   "metadata": {},
   "outputs": [],
   "source": [
    "class ExampleTest(BitcoinTestFramework):\n",
    "    def set_test_params(self):\n",
    "        \"\"\"Override test parameters for your individual test.\n",
    "\n",
    "        This method must be overridden and num_nodes must be exlicitly set.\"\"\"\n",
    "        self.setup_clean_chain = True\n",
    "        self.num_nodes = 3\n",
    "        # Use self.extra_args to change command-line arguments for the nodes\n",
    "        self.extra_args = [[], [\"-logips\"], []]\n",
    "\n",
    "        # self.log.info(\"I've finished set_test_params\")  # Oops! Can't run self.log before run_test()\n",
    "\n",
    "    # Use add_options() to add specific command-line options for your test.\n",
    "    # In practice this is not used very much, since the tests are mostly written\n",
    "    # to be run in automated environments without command-line options.\n",
    "    # def add_options()\n",
    "    #     pass\n",
    "\n",
    "    # Use setup_chain() to customize the node data directories. In practice\n",
    "    # this is not used very much since the default behaviour is almost always\n",
    "    # fine\n",
    "    # def setup_chain():\n",
    "    #     pass\n",
    "\n",
    "    def setup_network(self):\n",
    "        \"\"\"Setup the test network topology\n",
    "\n",
    "        Often you won't need to override this, since the standard network topology\n",
    "        (linear: node0 <-> node1 <-> node2 <-> ...) is fine for most tests.\n",
    "\n",
    "        If you do override this method, remember to start the nodes, assign\n",
    "        them to self.nodes, connect them and then sync.\"\"\"\n",
    "\n",
    "        self.setup_nodes()\n",
    "\n",
    "        # In this test, we're not connecting node2 to node0 or node1. Calls to\n",
    "        # sync_all() should not include node2, since we're not expecting it to\n",
    "        # sync.\n",
    "        connect_nodes(self.nodes[0], 1)\n",
    "        self.sync_all([self.nodes[0:1]])\n",
    "\n",
    "    # Use setup_nodes() to customize the node start behaviour (for example if\n",
    "    # you don't want to start all nodes at the start of the test).\n",
    "    # def setup_nodes():\n",
    "    #     pass\n",
    "\n",
    "    def custom_method(self):\n",
    "        \"\"\"Do some custom behaviour for this test\n",
    "\n",
    "        Define it in a method here because you're going to use it repeatedly.\n",
    "        If you think it's useful in general, consider moving it to the base\n",
    "        BitcoinTestFramework class so other tests can use it.\"\"\"\n",
    "\n",
    "        self.log.info(\"Running custom_method\")"
   ]
  },
  {
   "cell_type": "markdown",
   "metadata": {},
   "source": [
    "# Defining the actual test\n",
    "\n",
    "For a normal test, we'd override the `run_test()` method to define the steps in the test.\n",
    "\n",
    "Since this is a step-by-step walkthrough, we'll just run the commands manually."
   ]
  },
  {
   "cell_type": "code",
   "execution_count": 6,
   "metadata": {},
   "outputs": [
    {
     "name": "stdout",
     "output_type": "stream",
     "text": [
      "2017-11-03 22:57:06.265000 TestFramework (INFO): Initializing test directory /tmp/user/1000/testy5fyqx7b\n"
     ]
    }
   ],
   "source": [
    "self = ExampleTest()  # Gross. I'm really sorry\n",
    "setup_test(self, srcdir, cachedir)  # This gets us to the start of the test"
   ]
  },
  {
   "cell_type": "markdown",
   "metadata": {},
   "source": [
    "# Now, let's have some fun\n",
    "\n",
    "Ok, we're good to go. Our `setup_network()` method has started three nodes for us and set up a P2P connection between node0 and node1. Let's make sure that we really do have three nodes ready for testing:"
   ]
  },
  {
   "cell_type": "code",
   "execution_count": 23,
   "metadata": {},
   "outputs": [
    {
     "name": "stdout",
     "output_type": "stream",
     "text": [
      "[<test_framework.test_node.TestNode object at 0x7f511c144da0>, <test_framework.test_node.TestNode object at 0x7f511c144cc0>, <test_framework.test_node.TestNode object at 0x7f511c144ef0>]\n"
     ]
    }
   ],
   "source": [
    "# First make sure that self.nodes has three objects\n",
    "print(self.nodes)"
   ]
  },
  {
   "cell_type": "code",
   "execution_count": 31,
   "metadata": {},
   "outputs": [
    {
     "name": "stdout",
     "output_type": "stream",
     "text": [
      "Node0's blockchain info:\n",
      "\n",
      "{'bestblockhash': '0f9188f13cb7b2c71f2a335e3a4fc328bf5beb436012afca590b1a11466e2206',\n",
      " 'bip9_softforks': {'csv': {'since': 0,\n",
      "                            'startTime': 0,\n",
      "                            'status': 'defined',\n",
      "                            'timeout': 999999999999},\n",
      "                    'segwit': {'since': 0,\n",
      "                               'startTime': 0,\n",
      "                               'status': 'defined',\n",
      "                               'timeout': 999999999999}},\n",
      " 'blocks': 0,\n",
      " 'chain': 'regtest',\n",
      " 'chainwork': '0000000000000000000000000000000000000000000000000000000000000002',\n",
      " 'difficulty': Decimal('4.656542373906925E-10'),\n",
      " 'headers': 0,\n",
      " 'mediantime': 1296688602,\n",
      " 'pruned': False,\n",
      " 'size_on_disk': 293,\n",
      " 'softforks': [{'id': 'bip34', 'reject': {'status': False}, 'version': 2},\n",
      "               {'id': 'bip66', 'reject': {'status': False}, 'version': 3},\n",
      "               {'id': 'bip65', 'reject': {'status': False}, 'version': 4}],\n",
      " 'verificationprogress': 1,\n",
      " 'warnings': 'This is a pre-release test build - use at your own risk - do not '\n",
      "             'use for mining or merchant applications'}\n"
     ]
    }
   ],
   "source": [
    "# Each of those objects is a `TestNode` class. We can make calls on that class, which get mapped through to RPC calls\n",
    "# Let's get some info from those nodes:\n",
    "\n",
    "print(\"Node0's blockchain info:\\n\")\n",
    "pprint(self.nodes[0].getblockchaininfo())"
   ]
  },
  {
   "cell_type": "code",
   "execution_count": 30,
   "metadata": {},
   "outputs": [
    {
     "name": "stdout",
     "output_type": "stream",
     "text": [
      "Node1's peer info:\n",
      "\n",
      "[{'addnode': False,\n",
      "  'addr': '127.0.0.1:49052',\n",
      "  'addrbind': '127.0.0.1:14045',\n",
      "  'banscore': 0,\n",
      "  'bytesrecv': 977,\n",
      "  'bytesrecv_per_msg': {'feefilter': 32,\n",
      "                        'getaddr': 24,\n",
      "                        'getheaders': 93,\n",
      "                        'ping': 288,\n",
      "                        'pong': 288,\n",
      "                        'sendcmpct': 66,\n",
      "                        'sendheaders': 24,\n",
      "                        'verack': 24,\n",
      "                        'version': 138},\n",
      "  'bytessent': 953,\n",
      "  'bytessent_per_msg': {'feefilter': 32,\n",
      "                        'getheaders': 93,\n",
      "                        'ping': 288,\n",
      "                        'pong': 288,\n",
      "                        'sendcmpct': 66,\n",
      "                        'sendheaders': 24,\n",
      "                        'verack': 24,\n",
      "                        'version': 138},\n",
      "  'conntime': 1509749826,\n",
      "  'id': 0,\n",
      "  'inbound': True,\n",
      "  'inflight': [],\n",
      "  'lastrecv': 1509750786,\n",
      "  'lastsend': 1509750786,\n",
      "  'minping': Decimal('0.000168'),\n",
      "  'pingtime': Decimal('0.000523'),\n",
      "  'relaytxes': True,\n",
      "  'services': '000000000000000d',\n",
      "  'startingheight': 0,\n",
      "  'subver': '/Satoshi:0.15.99(testnode0)/',\n",
      "  'synced_blocks': -1,\n",
      "  'synced_headers': -1,\n",
      "  'timeoffset': 0,\n",
      "  'version': 70015,\n",
      "  'whitelisted': False}]\n"
     ]
    }
   ],
   "source": [
    "print(\"Node1's peer info:\\n\")\n",
    "pprint(self.nodes[1].getpeerinfo())"
   ]
  },
  {
   "cell_type": "code",
   "execution_count": 32,
   "metadata": {},
   "outputs": [
    {
     "name": "stdout",
     "output_type": "stream",
     "text": [
      "Node2's network info:\n",
      "\n",
      "{'connections': 0,\n",
      " 'incrementalfee': Decimal('0.00001000'),\n",
      " 'localaddresses': [],\n",
      " 'localrelay': True,\n",
      " 'localservices': '000000000000000d',\n",
      " 'networkactive': True,\n",
      " 'networks': [{'limited': False,\n",
      "               'name': 'ipv4',\n",
      "               'proxy': '',\n",
      "               'proxy_randomize_credentials': False,\n",
      "               'reachable': True},\n",
      "              {'limited': False,\n",
      "               'name': 'ipv6',\n",
      "               'proxy': '',\n",
      "               'proxy_randomize_credentials': False,\n",
      "               'reachable': True},\n",
      "              {'limited': True,\n",
      "               'name': 'onion',\n",
      "               'proxy': '',\n",
      "               'proxy_randomize_credentials': False,\n",
      "               'reachable': False}],\n",
      " 'protocolversion': 70015,\n",
      " 'relayfee': Decimal('0.00001000'),\n",
      " 'subversion': '/Satoshi:0.15.99(testnode2)/',\n",
      " 'timeoffset': 0,\n",
      " 'version': 159900,\n",
      " 'warnings': 'This is a pre-release test build - use at your own risk - do not '\n",
      "             'use for mining or merchant applications'}\n"
     ]
    }
   ],
   "source": [
    "print(\"Node2's network info:\\n\")\n",
    "pprint(self.nodes[2].getnetworkinfo())"
   ]
  },
  {
   "cell_type": "markdown",
   "metadata": {},
   "source": [
    "# Shutdown\n",
    "\n",
    "Now that we've finished, call `shutdown_test()` to shutdown the nodes and clean up resources."
   ]
  }
 ],
 "metadata": {
  "kernelspec": {
   "display_name": "Python 3",
   "language": "python",
   "name": "python3"
  },
  "language_info": {
   "codemirror_mode": {
    "name": "ipython",
    "version": 3
   },
   "file_extension": ".py",
   "mimetype": "text/x-python",
   "name": "python",
   "nbconvert_exporter": "python",
   "pygments_lexer": "ipython3",
   "version": "3.5.2"
  }
 },
 "nbformat": 4,
 "nbformat_minor": 2
}
