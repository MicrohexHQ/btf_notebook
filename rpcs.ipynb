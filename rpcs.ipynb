{
 "cells": [
  {
   "cell_type": "markdown",
   "metadata": {},
   "source": [
    "# `get*info` RPCs\n",
    "\n",
    "In the first notebook, we introduced the framework. In this notebook, we'll setup the framework as before, and then run some RPCs on the running nodes.\n",
    "\n",
    "As before, we start by importing utility functions and setting up some variables."
   ]
  },
  {
   "cell_type": "code",
   "execution_count": null,
   "metadata": {},
   "outputs": [],
   "source": [
    "from utils import *\n",
    "\n",
    "srcdir = \"../bitcoin/src\" # Change this to the path for your bitcoind executable\n",
    "\n",
    "self = ExampleTest()\n",
    "setup_test(self, srcdir)"
   ]
  },
  {
   "cell_type": "markdown",
   "metadata": {},
   "source": [
    "We'll also import matplotlib and numpy so we can graph some data:"
   ]
  },
  {
   "cell_type": "code",
   "execution_count": null,
   "metadata": {},
   "outputs": [],
   "source": [
    "%matplotlib inline\n",
    "\n",
    "import matplotlib.pyplot as plt\n",
    "import numpy as np\n",
    "import time\n",
    "from IPython import display"
   ]
  },
  {
   "cell_type": "markdown",
   "metadata": {},
   "source": [
    "# `getblockchaininfo`\n",
    "\n",
    "The `TestNode` class maps calls to unknown methods onto RPC method calls. We'll start by calling the `getblockchaininfo` RPC."
   ]
  },
  {
   "cell_type": "code",
   "execution_count": null,
   "metadata": {},
   "outputs": [],
   "source": [
    "pprint(self.nodes[0].getblockchaininfo())"
   ]
  },
  {
   "cell_type": "code",
   "execution_count": null,
   "metadata": {},
   "outputs": [],
   "source": [
    "# Define a function to plot the blockchain\n",
    "def graph_blockchainheight():\n",
    "    fig, ax = plt.subplots()\n",
    "    ind = np.arange(1, 4)\n",
    "\n",
    "    # show the figure, but do not block\n",
    "    #    plt.show(block=False)\n",
    "\n",
    "    bcis = [self.nodes[i].getblockchaininfo() for i in range(3)]\n",
    "\n",
    "    blockheights = [bci['blocks'] for bci in bcis]\n",
    "    n0, n1, n2 = plt.bar(ind, blockheights)\n",
    "    colors = ['b', 'g', 'r', 'c', 'm', 'y']\n",
    "\n",
    "    tips = [bci['bestblockhash'] for bci in bcis]\n",
    "    tips_set = set(tips)\n",
    "    tip_color ={}\n",
    "    for i, hash in enumerate(tips_set):\n",
    "        tip_color[hash] = colors[i]\n",
    "    \n",
    "    n0.set_facecolor(tip_color[tips[0]])\n",
    "    n1.set_facecolor(tip_color[tips[1]])\n",
    "    n2.set_facecolor(tip_color[tips[2]])\n",
    "    ax.set_xticks(ind)\n",
    "    ax.set_xticklabels(['Node0', 'Node1', 'Node2'])\n",
    "    ax.set_ylim([0, max(blockheights) + 1])\n",
    "    ax.set_ylabel('Node height')\n",
    "    ax.set_title('Node blockchain height')\n",
    "\n",
    "    # ask the canvas to re-draw itself the next time it\n",
    "    # has a chance.\n",
    "    # For most of the GUI backends this adds an event to the queue\n",
    "    # of the GUI frameworks event loop.\n",
    "    fig.canvas.draw()\n",
    "\n",
    "# Draw a graph of the blockchain heights\n",
    "graph_blockchainheight()"
   ]
  },
  {
   "cell_type": "code",
   "execution_count": null,
   "metadata": {},
   "outputs": [],
   "source": [
    "# Generate two blocks on node0. Node0 is connected to node1, so their tips should advance together\n",
    "self.nodes[0].generate(2)"
   ]
  },
  {
   "cell_type": "code",
   "execution_count": null,
   "metadata": {},
   "outputs": [],
   "source": [
    "graph_blockchainheight()"
   ]
  },
  {
   "cell_type": "code",
   "execution_count": null,
   "metadata": {},
   "outputs": [],
   "source": [
    "# Generate two blocks on node2. Node2 is isolated so the blocks won't propogate\n",
    "self.nodes[2].generate(2)"
   ]
  },
  {
   "cell_type": "code",
   "execution_count": null,
   "metadata": {
    "scrolled": true
   },
   "outputs": [],
   "source": [
    "graph_blockchainheight()"
   ]
  },
  {
   "cell_type": "code",
   "execution_count": null,
   "metadata": {},
   "outputs": [],
   "source": [
    "# Connect node1 to node2. Tips shouldn't sync.\n",
    "connect_nodes(self.nodes[1], 2)"
   ]
  },
  {
   "cell_type": "code",
   "execution_count": null,
   "metadata": {},
   "outputs": [],
   "source": [
    "graph_blockchainheight()"
   ]
  },
  {
   "cell_type": "code",
   "execution_count": null,
   "metadata": {},
   "outputs": [],
   "source": [
    "# Generate one more block on node2. Node0 and node1 should re-org to node2\n",
    "self.nodes[2].generate(1)"
   ]
  },
  {
   "cell_type": "code",
   "execution_count": null,
   "metadata": {
    "scrolled": true
   },
   "outputs": [],
   "source": [
    "graph_blockchainheight()"
   ]
  },
  {
   "cell_type": "markdown",
   "metadata": {},
   "source": [
    "# Shutdown\n",
    "\n",
    "Now that we've finished, call `shutdown_test()` to shutdown the nodes and clean up resources."
   ]
  },
  {
   "cell_type": "code",
   "execution_count": null,
   "metadata": {},
   "outputs": [],
   "source": [
    "shutdown_test(self)"
   ]
  }
 ],
 "metadata": {
  "kernelspec": {
   "display_name": "Python 3",
   "language": "python",
   "name": "python3"
  },
  "language_info": {
   "codemirror_mode": {
    "name": "ipython",
    "version": 3
   },
   "file_extension": ".py",
   "mimetype": "text/x-python",
   "name": "python",
   "nbconvert_exporter": "python",
   "pygments_lexer": "ipython3",
   "version": "3.5.2"
  }
 },
 "nbformat": 4,
 "nbformat_minor": 2
}
