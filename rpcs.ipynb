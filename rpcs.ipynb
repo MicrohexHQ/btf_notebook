{
 "cells": [
  {
   "cell_type": "markdown",
   "metadata": {},
   "source": [
    "# `get*info` RPCs\n",
    "\n",
    "In the first notebook, we introduced the framework. In this notebook, we'll setup the framework as before, and then run some RPCs on the running nodes.\n",
    "\n",
    "As before, we start by importing utility functions and setting up some variables."
   ]
  },
  {
   "cell_type": "code",
   "execution_count": 1,
   "metadata": {},
   "outputs": [
    {
     "name": "stdout",
     "output_type": "stream",
     "text": [
      "2017-11-05 16:59:30.581000 TestFramework (INFO): Initializing test directory /tmp/user/1000/testqy3bqp8q\n"
     ]
    }
   ],
   "source": [
    "from utils import *\n",
    "\n",
    "srcdir = \"../bitcoin/src\" # Change this to the path for your bitcoind executable\n",
    "\n",
    "self = ExampleTest()\n",
    "setup_test(self, srcdir)"
   ]
  },
  {
   "cell_type": "markdown",
   "metadata": {},
   "source": [
    "We'll also import matplotlib and numpy so we can graph some data:"
   ]
  },
  {
   "cell_type": "code",
   "execution_count": 2,
   "metadata": {},
   "outputs": [],
   "source": [
    "%matplotlib inline\n",
    "\n",
    "import matplotlib.pyplot as plt\n",
    "import numpy as np\n",
    "import time\n",
    "from IPython import display"
   ]
  },
  {
   "cell_type": "markdown",
   "metadata": {},
   "source": [
    "# `getblockchaininfo`\n",
    "\n",
    "The `TestNode` class maps calls to unknown methods onto RPC method calls. We'll start by calling the `getblockchaininfo` RPC."
   ]
  },
  {
   "cell_type": "code",
   "execution_count": 3,
   "metadata": {},
   "outputs": [
    {
     "name": "stdout",
     "output_type": "stream",
     "text": [
      "{'bestblockhash': '0f9188f13cb7b2c71f2a335e3a4fc328bf5beb436012afca590b1a11466e2206',\n",
      " 'bip9_softforks': {'csv': {'since': 0,\n",
      "                            'startTime': 0,\n",
      "                            'status': 'defined',\n",
      "                            'timeout': 999999999999},\n",
      "                    'segwit': {'since': 0,\n",
      "                               'startTime': 0,\n",
      "                               'status': 'defined',\n",
      "                               'timeout': 999999999999}},\n",
      " 'blocks': 0,\n",
      " 'chain': 'regtest',\n",
      " 'chainwork': '0000000000000000000000000000000000000000000000000000000000000002',\n",
      " 'difficulty': Decimal('4.656542373906925E-10'),\n",
      " 'headers': 0,\n",
      " 'mediantime': 1296688602,\n",
      " 'pruned': False,\n",
      " 'size_on_disk': 293,\n",
      " 'softforks': [{'id': 'bip34', 'reject': {'status': False}, 'version': 2},\n",
      "               {'id': 'bip66', 'reject': {'status': False}, 'version': 3},\n",
      "               {'id': 'bip65', 'reject': {'status': False}, 'version': 4}],\n",
      " 'verificationprogress': 1,\n",
      " 'warnings': 'This is a pre-release test build - use at your own risk - do not '\n",
      "             'use for mining or merchant applications'}\n"
     ]
    }
   ],
   "source": [
    "pprint(self.nodes[0].getblockchaininfo())"
   ]
  },
  {
   "cell_type": "code",
   "execution_count": 6,
   "metadata": {},
   "outputs": [
    {
     "data": {
      "image/png": "[encoded data removed]",
      "text/plain": [
       "<matplotlib.figure.Figure at 0x7f31808a4d68>"
      ]
     },
     "metadata": {},
     "output_type": "display_data"
    }
   ],
   "source": [
    "fig, ax = plt.subplots()\n",
    "ind = np.arange(1, 4)\n",
    "\n",
    "# show the figure, but do not block\n",
    "#    plt.show(block=False)\n",
    "\n",
    "blocks = [self.nodes[i].getblockchaininfo()['blocks'] for i in range(3)]\n",
    "\n",
    "n0, n1, n2 = plt.bar(ind, blocks)\n",
    "n0.set_facecolor('r')\n",
    "n1.set_facecolor('g')\n",
    "n2.set_facecolor('b')\n",
    "ax.set_xticks(ind)\n",
    "ax.set_xticklabels(['Node0', 'Node1', 'Node2'])\n",
    "ax.set_ylim([0, max(blocks) + 1])\n",
    "ax.set_ylabel('Node height')\n",
    "ax.set_title('Node blockchain height')\n",
    "\n",
    "# ask the canvas to re-draw itself the next time it\n",
    "# has a chance.\n",
    "# For most of the GUI backends this adds an event to the queue\n",
    "# of the GUI frameworks event loop.\n",
    "fig.canvas.draw()\n",
    "\n",
    "for i in range(5):  # run for a little while\n",
    "    blocks = [self.nodes[i].getblockchaininfo()['blocks'] for i in range(3)]\n",
    "    pprint(blocks)\n",
    "\n",
    "    # update the animated artists\n",
    "    n0.set_height(blocks[0])\n",
    "    n1.set_height(blocks[1])\n",
    "    n2.set_height(blocks[2])\n",
    "\n",
    "    # ask the canvas to re-draw itself the next time it\n",
    "    # has a chance.\n",
    "    # For most of the GUI backends this adds an event to the queue\n",
    "    # of the GUI frameworks event loop.'\n",
    "    display.display(fig)\n",
    "    display.clear_output(wait=True)\n",
    "    fig.canvas.draw()\n",
    "    try:\n",
    "        # make sure that the GUI framework has a chance to run its event loop\n",
    "        # and clear any GUI events.  This needs to be in a try/except block\n",
    "        # because the default implementation of this method is to raise\n",
    "        # NotImplementedError\n",
    "        fig.canvas.flush_events()\n",
    "    except NotImplementedError:\n",
    "        pass\n",
    "    time.sleep(1)"
   ]
  },
  {
   "cell_type": "code",
   "execution_count": 5,
   "metadata": {},
   "outputs": [
    {
     "data": {
      "text/plain": [
       "['6c729790524ce37197a058ff044f7e7231d33574ae16118227735989f5b24063',\n",
       " '5cc01407fd488153008706f3c1a658be28972f9233266f8a1d734100311e3c8f']"
      ]
     },
     "execution_count": 5,
     "metadata": {},
     "output_type": "execute_result"
    }
   ],
   "source": [
    "self.nodes[0].generate(2)"
   ]
  },
  {
   "cell_type": "code",
   "execution_count": 33,
   "metadata": {},
   "outputs": [
    {
     "data": {
      "text/plain": [
       "{'bestblockhash': '13f78f95401e695984fd0ad896a752a267ad0ee8148a0209fada9ca6165dd206',\n",
       " 'bip9_softforks': {'csv': {'since': 0,\n",
       "   'startTime': 0,\n",
       "   'status': 'defined',\n",
       "   'timeout': 999999999999},\n",
       "  'segwit': {'since': 0,\n",
       "   'startTime': 0,\n",
       "   'status': 'defined',\n",
       "   'timeout': 999999999999}},\n",
       " 'blocks': 18,\n",
       " 'chain': 'regtest',\n",
       " 'chainwork': '0000000000000000000000000000000000000000000000000000000000000026',\n",
       " 'difficulty': Decimal('4.656542373906925E-10'),\n",
       " 'headers': 18,\n",
       " 'mediantime': 1509862085,\n",
       " 'pruned': False,\n",
       " 'size_on_disk': 5245,\n",
       " 'softforks': [{'id': 'bip34', 'reject': {'status': False}, 'version': 2},\n",
       "  {'id': 'bip66', 'reject': {'status': False}, 'version': 3},\n",
       "  {'id': 'bip65', 'reject': {'status': False}, 'version': 4}],\n",
       " 'verificationprogress': 1,\n",
       " 'warnings': 'This is a pre-release test build - use at your own risk - do not use for mining or merchant applications'}"
      ]
     },
     "execution_count": 33,
     "metadata": {},
     "output_type": "execute_result"
    }
   ],
   "source": [
    "self.nodes[0].getblockchaininfo()"
   ]
  },
  {
   "cell_type": "code",
   "execution_count": 31,
   "metadata": {},
   "outputs": [
    {
     "data": {
      "image/png": "[encoded data removed]",
      "text/plain": [
       "<matplotlib.figure.Figure at 0x7fe44f06a048>"
      ]
     },
     "metadata": {},
     "output_type": "display_data"
    }
   ],
   "source": [
    "graph_blockchainheight()"
   ]
  },
  {
   "cell_type": "markdown",
   "metadata": {},
   "source": [
    "# Shutdown\n",
    "\n",
    "Now that we've finished, call `shutdown_test()` to shutdown the nodes and clean up resources."
   ]
  },
  {
   "cell_type": "code",
   "execution_count": 35,
   "metadata": {},
   "outputs": [
    {
     "name": "stdout",
     "output_type": "stream",
     "text": [
      "2017-11-05 16:58:49.162000 TestFramework (INFO): Stopping nodes\n",
      "2017-11-05 16:58:49.423000 TestFramework (INFO): Nodes stopped\n",
      "2017-11-05 16:58:49.424000 TestFramework (INFO): Cleaning up log directory\n"
     ]
    }
   ],
   "source": [
    "shutdown_test(self)"
   ]
  },
  {
   "cell_type": "code",
   "execution_count": null,
   "metadata": {},
   "outputs": [],
   "source": []
  }
 ],
 "metadata": {
  "kernelspec": {
   "display_name": "Python 3",
   "language": "python",
   "name": "python3"
  },
  "language_info": {
   "codemirror_mode": {
    "name": "ipython",
    "version": 3
   },
   "file_extension": ".py",
   "mimetype": "text/x-python",
   "name": "python",
   "nbconvert_exporter": "python",
   "pygments_lexer": "ipython3",
   "version": "3.5.2"
  }
 },
 "nbformat": 4,
 "nbformat_minor": 2
}
