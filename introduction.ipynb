{
 "cells": [
  {
   "cell_type": "markdown",
   "metadata": {},
   "source": [
    "# Introduction\n",
    "\n",
    "This is a Jupyter notebook. We're going to use it to interact with a running Bitcoin node.\n",
    "\n",
    "To run the code in a cell, press shift-enter."
   ]
  },
  {
   "cell_type": "markdown",
   "metadata": {},
   "source": [
    "# Housekeeping\n",
    "\n",
    "We need to set up some variables first. Normally, these are set by the test framework itself. We'll also import some useful utility functions.\n",
    "\n",
    "Select the cell below and run it using shift-enter."
   ]
  },
  {
   "cell_type": "code",
   "execution_count": null,
   "metadata": {},
   "outputs": [],
   "source": [
    "from utils import *  # Sorry for the wildcard. It just makes things easier.\n",
    "\n",
    "srcdir = \"/usr/bin\" # Change this to the path for your bitcoind executable"
   ]
  },
  {
   "cell_type": "markdown",
   "metadata": {},
   "source": [
    "# Creating a test framework\n",
    "\n",
    "We're going to use the Bitcoin functional test framework to spin up some nodes to play with. Future notebooks will explain how to customize the test network and topology. For now, we'll just use a pre-defined test called `ExampleTest`.\n",
    "\n",
    "We set `self` to be that test object so the code we run in the notebook looks like it's a test case."
   ]
  },
  {
   "cell_type": "code",
   "execution_count": null,
   "metadata": {},
   "outputs": [],
   "source": [
    "self = ExampleTest()  # Gross. I'm really sorry\n",
    "setup_test(self, srcdir)  # This gets us to the start of the test"
   ]
  },
  {
   "cell_type": "markdown",
   "metadata": {},
   "source": [
    "# The nodes are running\n",
    "\n",
    "The output from the cell above should be a single log line saying that the test directory has been initialized.\n",
    "\n",
    "We can interact with the nodes using the `TestNode` class. We'll look at that class in more detail later, but for now it's enough to know that we can use those `TestNode`s to interact with the node over RPC and P2P.\n",
    "\n",
    "First of all, check that we have three `TestNode` objects to work with."
   ]
  },
  {
   "cell_type": "code",
   "execution_count": null,
   "metadata": {},
   "outputs": [],
   "source": [
    "# First make sure that self.nodes has three objects\n",
    "pprint(self.nodes)"
   ]
  },
  {
   "cell_type": "code",
   "execution_count": null,
   "metadata": {},
   "outputs": [],
   "source": [
    "# Each of those objects is a `TestNode` class. We can make calls on that class, which get mapped through to RPC calls\n",
    "# Let's get some info from the first node:\n",
    "\n",
    "print(\"Node0's blockchain info:\\n\")\n",
    "pprint(self.nodes[0].getblockchaininfo())"
   ]
  },
  {
   "cell_type": "markdown",
   "metadata": {},
   "source": [
    "# Shutdown\n",
    "\n",
    "Now that we've finished, call `shutdown_test()` to shutdown the nodes and clean up resources."
   ]
  },
  {
   "cell_type": "code",
   "execution_count": null,
   "metadata": {},
   "outputs": [],
   "source": [
    "shutdown_test(self)"
   ]
  },
  {
   "cell_type": "markdown",
   "metadata": {},
   "source": [
    "Ok, we're done! In the next notebook we'll look at some RPC methods we can call on the running nodes."
   ]
  }
 ],
 "metadata": {
  "kernelspec": {
   "display_name": "Python 3",
   "language": "python",
   "name": "python3"
  },
  "language_info": {
   "codemirror_mode": {
    "name": "ipython",
    "version": 3
   },
   "file_extension": ".py",
   "mimetype": "text/x-python",
   "name": "python",
   "nbconvert_exporter": "python",
   "pygments_lexer": "ipython3",
   "version": "3.5.2"
  }
 },
 "nbformat": 4,
 "nbformat_minor": 2
}
